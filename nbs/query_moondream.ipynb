{
 "cells": [
  {
   "cell_type": "code",
   "execution_count": 4,
   "metadata": {},
   "outputs": [
    {
     "name": "stdout",
     "output_type": "stream",
     "text": [
      "Response: {\"response\":\"ray\"}\n"
     ]
    }
   ],
   "source": [
    "import requests\n",
    "\n",
    "# Example URL of Ray's logo\n",
    "image_url = \"https://raw.githubusercontent.com/ray-project/ray/master/doc/source/images/ray_header_logo.png\"\n",
    "\n",
    "# Create the JSON payload with the URL\n",
    "payload = {\n",
    "    \"url\": image_url,\n",
    "    \"prompt\": \"Describe this image. Answer:\"\n",
    "}\n",
    "\n",
    "# Send POST request with JSON payload\n",
    "resp = requests.post(\"http://localhost:8000/infer\", json=payload)\n",
    "\n",
    "# Print the text response\n",
    "print(\"Response:\", resp.text)"
   ]
  },
  {
   "cell_type": "code",
   "execution_count": 2,
   "metadata": {},
   "outputs": [
    {
     "name": "stdout",
     "output_type": "stream",
     "text": [
      "Response: {\"response\":\"ray\"}\n"
     ]
    }
   ],
   "source": [
    "# Send POST request with JSON payload\n",
    "resp = requests.post(\"http://localhost:8000/infer\", json=payload)\n",
    "\n",
    "# Print the text response\n",
    "print(\"Response:\", resp.text)"
   ]
  },
  {
   "cell_type": "code",
   "execution_count": null,
   "metadata": {},
   "outputs": [],
   "source": []
  }
 ],
 "metadata": {
  "kernelspec": {
   "display_name": "xinfer",
   "language": "python",
   "name": "python3"
  },
  "language_info": {
   "codemirror_mode": {
    "name": "ipython",
    "version": 3
   },
   "file_extension": ".py",
   "mimetype": "text/x-python",
   "name": "python",
   "nbconvert_exporter": "python",
   "pygments_lexer": "ipython3",
   "version": "3.10.15"
  }
 },
 "nbformat": 4,
 "nbformat_minor": 2
}
