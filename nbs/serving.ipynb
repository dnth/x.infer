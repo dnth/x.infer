{
 "cells": [
  {
   "cell_type": "code",
   "execution_count": 1,
   "metadata": {},
   "outputs": [
    {
     "data": {
      "text/html": [
       "<pre style=\"white-space:pre;overflow-x:auto;line-height:normal;font-family:Menlo,'DejaVu Sans Mono',consolas,'Courier New',monospace\"><span style=\"font-style: italic\">                              Available Models                              </span>\n",
       "┏━━━━━━━━━━━━━━━━┳━━━━━━━━━━━━━━━━━━━━━━━━━━━━━━━━━━━┳━━━━━━━━━━━━━━━━━━━━━┓\n",
       "┃<span style=\"font-weight: bold\"> Implementation </span>┃<span style=\"font-weight: bold\"> Model ID                          </span>┃<span style=\"font-weight: bold\"> Input --&gt; Output    </span>┃\n",
       "┡━━━━━━━━━━━━━━━━╇━━━━━━━━━━━━━━━━━━━━━━━━━━━━━━━━━━━╇━━━━━━━━━━━━━━━━━━━━━┩\n",
       "│<span style=\"color: #008080; text-decoration-color: #008080\"> transformers   </span>│<span style=\"color: #800080; text-decoration-color: #800080\"> Salesforce/blip2-opt-6.7b-coco    </span>│<span style=\"color: #008000; text-decoration-color: #008000\"> image-text --&gt; text </span>│\n",
       "│<span style=\"color: #008080; text-decoration-color: #008080\"> transformers   </span>│<span style=\"color: #800080; text-decoration-color: #800080\"> Salesforce/blip2-flan-t5-xxl      </span>│<span style=\"color: #008000; text-decoration-color: #008000\"> image-text --&gt; text </span>│\n",
       "│<span style=\"color: #008080; text-decoration-color: #008080\"> transformers   </span>│<span style=\"color: #800080; text-decoration-color: #800080\"> Salesforce/blip2-opt-6.7b         </span>│<span style=\"color: #008000; text-decoration-color: #008000\"> image-text --&gt; text </span>│\n",
       "│<span style=\"color: #008080; text-decoration-color: #008080\"> transformers   </span>│<span style=\"color: #800080; text-decoration-color: #800080\"> Salesforce/blip2-opt-2.7b         </span>│<span style=\"color: #008000; text-decoration-color: #008000\"> image-text --&gt; text </span>│\n",
       "│<span style=\"color: #008080; text-decoration-color: #008080\"> transformers   </span>│<span style=\"color: #800080; text-decoration-color: #800080\"> sashakunitsyn/vlrm-blip2-opt-2.7b </span>│<span style=\"color: #008000; text-decoration-color: #008000\"> image-text --&gt; text </span>│\n",
       "└────────────────┴───────────────────────────────────┴─────────────────────┘\n",
       "</pre>\n"
      ],
      "text/plain": [
       "\u001b[3m                              Available Models                              \u001b[0m\n",
       "┏━━━━━━━━━━━━━━━━┳━━━━━━━━━━━━━━━━━━━━━━━━━━━━━━━━━━━┳━━━━━━━━━━━━━━━━━━━━━┓\n",
       "┃\u001b[1m \u001b[0m\u001b[1mImplementation\u001b[0m\u001b[1m \u001b[0m┃\u001b[1m \u001b[0m\u001b[1mModel ID                         \u001b[0m\u001b[1m \u001b[0m┃\u001b[1m \u001b[0m\u001b[1mInput --> Output   \u001b[0m\u001b[1m \u001b[0m┃\n",
       "┡━━━━━━━━━━━━━━━━╇━━━━━━━━━━━━━━━━━━━━━━━━━━━━━━━━━━━╇━━━━━━━━━━━━━━━━━━━━━┩\n",
       "│\u001b[36m \u001b[0m\u001b[36mtransformers  \u001b[0m\u001b[36m \u001b[0m│\u001b[35m \u001b[0m\u001b[35mSalesforce/blip2-opt-6.7b-coco   \u001b[0m\u001b[35m \u001b[0m│\u001b[32m \u001b[0m\u001b[32mimage-text --> text\u001b[0m\u001b[32m \u001b[0m│\n",
       "│\u001b[36m \u001b[0m\u001b[36mtransformers  \u001b[0m\u001b[36m \u001b[0m│\u001b[35m \u001b[0m\u001b[35mSalesforce/blip2-flan-t5-xxl     \u001b[0m\u001b[35m \u001b[0m│\u001b[32m \u001b[0m\u001b[32mimage-text --> text\u001b[0m\u001b[32m \u001b[0m│\n",
       "│\u001b[36m \u001b[0m\u001b[36mtransformers  \u001b[0m\u001b[36m \u001b[0m│\u001b[35m \u001b[0m\u001b[35mSalesforce/blip2-opt-6.7b        \u001b[0m\u001b[35m \u001b[0m│\u001b[32m \u001b[0m\u001b[32mimage-text --> text\u001b[0m\u001b[32m \u001b[0m│\n",
       "│\u001b[36m \u001b[0m\u001b[36mtransformers  \u001b[0m\u001b[36m \u001b[0m│\u001b[35m \u001b[0m\u001b[35mSalesforce/blip2-opt-2.7b        \u001b[0m\u001b[35m \u001b[0m│\u001b[32m \u001b[0m\u001b[32mimage-text --> text\u001b[0m\u001b[32m \u001b[0m│\n",
       "│\u001b[36m \u001b[0m\u001b[36mtransformers  \u001b[0m\u001b[36m \u001b[0m│\u001b[35m \u001b[0m\u001b[35msashakunitsyn/vlrm-blip2-opt-2.7b\u001b[0m\u001b[35m \u001b[0m│\u001b[32m \u001b[0m\u001b[32mimage-text --> text\u001b[0m\u001b[32m \u001b[0m│\n",
       "└────────────────┴───────────────────────────────────┴─────────────────────┘\n"
      ]
     },
     "metadata": {},
     "output_type": "display_data"
    }
   ],
   "source": [
    "import xinfer\n",
    "\n",
    "xinfer.list_models(\"blip\")"
   ]
  },
  {
   "cell_type": "code",
   "execution_count": null,
   "metadata": {},
   "outputs": [],
   "source": [
    "# model = xinfer.create_model(\"vikhyatk/moondream2\", device=\"cuda\", dtype=\"float16\")"
   ]
  },
  {
   "cell_type": "code",
   "execution_count": 2,
   "metadata": {},
   "outputs": [
    {
     "name": "stderr",
     "output_type": "stream",
     "text": [
      "2024-10-30 22:01:55,861\tINFO worker.py:1807 -- Started a local Ray instance. View the dashboard at \u001b[1m\u001b[32m127.0.0.1:8265 \u001b[39m\u001b[22m\n",
      "INFO 2024-10-30 22:01:57,846 serve 223512 api.py:277 - Started Serve in namespace \"serve\".\n",
      "\u001b[36m(ServeController pid=223795)\u001b[0m INFO 2024-10-30 22:01:57,884 controller 223795 deployment_state.py:1604 - Deploying new version of Deployment(name='XInferModel', app='default') (initial target replicas: 1).\n",
      "\u001b[36m(ProxyActor pid=223797)\u001b[0m INFO 2024-10-30 22:01:57,829 proxy 192.168.100.60 proxy.py:1191 - Proxy starting on node fb1e564b0b20eb35e56c27e33adc385b81252d392565f6bc6ec994c8 (HTTP port: 8000).\n",
      "\u001b[36m(ServeController pid=223795)\u001b[0m INFO 2024-10-30 22:01:57,987 controller 223795 deployment_state.py:1850 - Adding 1 replica to Deployment(name='XInferModel', app='default').\n",
      "\u001b[36m(ServeReplica:default:XInferModel pid=223794)\u001b[0m 2024-10-30 22:02:02.407 | INFO     | xinfer.models:__init__:63 - Model: Salesforce/blip2-opt-2.7b\n",
      "\u001b[36m(ServeReplica:default:XInferModel pid=223794)\u001b[0m 2024-10-30 22:02:02.407 | INFO     | xinfer.models:__init__:64 - Device: cuda\n",
      "\u001b[36m(ServeReplica:default:XInferModel pid=223794)\u001b[0m 2024-10-30 22:02:02.407 | INFO     | xinfer.models:__init__:65 - Dtype: float16\n",
      "\u001b[36m(ProxyActor pid=223797)\u001b[0m INFO 2024-10-30 22:02:04,096 proxy 192.168.100.60 84749dc8-4352-43bd-81ae-a4280fec2e12 /docs proxy.py:1056 - Client for request 84749dc8-4352-43bd-81ae-a4280fec2e12 disconnected, cancelling request.\n",
      "Loading checkpoint shards:   0%|          | 0/2 [00:00<?, ?it/s]\n",
      "Loading checkpoint shards:  50%|█████     | 1/2 [00:00<00:00,  3.38it/s]\n",
      "Loading checkpoint shards: 100%|██████████| 2/2 [00:00<00:00,  4.15it/s]\n",
      "\u001b[36m(ServeReplica:default:XInferModel pid=223794)\u001b[0m INFO 2024-10-30 22:02:11,213 default_XInferModel zlwj0nmu e3eba46b-1e2f-4e8e-a624-c9bcb9197095 /docs replica.py:378 - __CALL__ OK 1.8ms\n",
      "\u001b[36m(ServeReplica:default:XInferModel pid=223794)\u001b[0m INFO 2024-10-30 22:02:11,287 default_XInferModel zlwj0nmu c9cc90ba-b433-46b0-af60-2840daf87500 /openapi.json replica.py:378 - __CALL__ OK 3.4ms\n",
      "INFO 2024-10-30 22:02:11,936 serve 223512 client.py:492 - Deployment 'XInferModel:svnllzze' is ready at `http://127.0.0.1:8000/`. component=serve deployment=XInferModel\n",
      "INFO 2024-10-30 22:02:11,938 serve 223512 api.py:549 - Deployed app 'default' successfully.\n",
      "\u001b[36m(ServeReplica:default:XInferModel pid=223794)\u001b[0m Expanding inputs for image tokens in BLIP-2 should be done in processing. Please follow instruction here (https://gist.github.com/zucchini-nlp/e9f20b054fa322f84ac9311d9ab67042) to update your BLIP-2 model. Using processors without these attributes in the config is deprecated and will throw an error in v4.47.\n",
      "\u001b[36m(ServeReplica:default:XInferModel pid=223794)\u001b[0m Expanding inputs for image tokens in BLIP-2 should be done in processing. Please follow instruction here (https://gist.github.com/zucchini-nlp/e9f20b054fa322f84ac9311d9ab67042) to update your BLIP-2 model. Using processors without these attributes in the config is deprecated and will throw an error in v4.47.\n",
      "\u001b[36m(ServeReplica:default:XInferModel pid=223794)\u001b[0m INFO 2024-10-30 22:02:20,475 default_XInferModel zlwj0nmu dbf02c44-092e-4053-915e-468b356375f2 /infer replica.py:378 - __CALL__ OK 602.2ms\n",
      "\u001b[36m(ServeReplica:default:XInferModel pid=223794)\u001b[0m INFO 2024-10-30 22:02:20,777 default_XInferModel zlwj0nmu 0a952fdc-cf39-48be-9d42-8856e7ca06c7 /infer replica.py:378 - __CALL__ OK 292.7ms\n",
      "\u001b[36m(ServeReplica:default:XInferModel pid=223794)\u001b[0m INFO 2024-10-30 22:02:31,971 default_XInferModel zlwj0nmu 403c1d0a-32bb-44c7-b0b2-16bb9c36de6a /infer replica.py:378 - __CALL__ OK 601.4ms\n",
      "\u001b[36m(ServeReplica:default:XInferModel pid=223794)\u001b[0m INFO 2024-10-30 22:02:44,774 default_XInferModel zlwj0nmu 4441d72b-054d-40b5-9319-c12a083b0422 /infer replica.py:378 - __CALL__ OK 313.2ms\n",
      "\u001b[36m(ServeReplica:default:XInferModel pid=223794)\u001b[0m INFO 2024-10-30 22:03:06,421 default_XInferModel zlwj0nmu a29ef7ad-0048-45ad-a61d-9ce4dadc3558 /infer replica.py:378 - __CALL__ OK 349.4ms\n"
     ]
    }
   ],
   "source": [
    "xinfer.serve_model(\"Salesforce/blip2-opt-2.7b\", device=\"cuda\", dtype=\"float16\")"
   ]
  },
  {
   "cell_type": "code",
   "execution_count": null,
   "metadata": {},
   "outputs": [],
   "source": []
  }
 ],
 "metadata": {
  "kernelspec": {
   "display_name": "xinfer",
   "language": "python",
   "name": "python3"
  },
  "language_info": {
   "codemirror_mode": {
    "name": "ipython",
    "version": 3
   },
   "file_extension": ".py",
   "mimetype": "text/x-python",
   "name": "python",
   "nbconvert_exporter": "python",
   "pygments_lexer": "ipython3",
   "version": "3.10.15"
  }
 },
 "nbformat": 4,
 "nbformat_minor": 2
}
