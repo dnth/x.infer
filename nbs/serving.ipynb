{
 "cells": [
  {
   "cell_type": "code",
   "execution_count": 1,
   "metadata": {},
   "outputs": [
    {
     "data": {
      "text/html": [
       "<pre style=\"white-space:pre;overflow-x:auto;line-height:normal;font-family:Menlo,'DejaVu Sans Mono',consolas,'Courier New',monospace\"><span style=\"font-style: italic\">                                  Available Models                                  </span>\n",
       "┏━━━━━━━━━━━━━━━━┳━━━━━━━━━━━━━━━━━━━━━━━━━━━━━━━━━━━━━━━━━━━┳━━━━━━━━━━━━━━━━━━━━━┓\n",
       "┃<span style=\"font-weight: bold\"> Implementation </span>┃<span style=\"font-weight: bold\"> Model ID                                  </span>┃<span style=\"font-weight: bold\"> Input --&gt; Output    </span>┃\n",
       "┡━━━━━━━━━━━━━━━━╇━━━━━━━━━━━━━━━━━━━━━━━━━━━━━━━━━━━━━━━━━━━╇━━━━━━━━━━━━━━━━━━━━━┩\n",
       "│<span style=\"color: #008080; text-decoration-color: #008080\"> vllm           </span>│<span style=\"color: #800080; text-decoration-color: #800080\"> vllm/allenai/Molmo-7B-D-0924              </span>│<span style=\"color: #008000; text-decoration-color: #008000\"> image-text --&gt; text </span>│\n",
       "│<span style=\"color: #008080; text-decoration-color: #008080\"> vllm           </span>│<span style=\"color: #800080; text-decoration-color: #800080\"> vllm/allenai/Molmo-7B-O-0924              </span>│<span style=\"color: #008000; text-decoration-color: #008000\"> image-text --&gt; text </span>│\n",
       "│<span style=\"color: #008080; text-decoration-color: #008080\"> vllm           </span>│<span style=\"color: #800080; text-decoration-color: #800080\"> vllm/allenai/Molmo-72B-0924               </span>│<span style=\"color: #008000; text-decoration-color: #008000\"> image-text --&gt; text </span>│\n",
       "│<span style=\"color: #008080; text-decoration-color: #008080\"> vllm           </span>│<span style=\"color: #800080; text-decoration-color: #800080\"> vllm/microsoft/Phi-3.5-vision-instruct    </span>│<span style=\"color: #008000; text-decoration-color: #008000\"> image-text --&gt; text </span>│\n",
       "│<span style=\"color: #008080; text-decoration-color: #008080\"> vllm           </span>│<span style=\"color: #800080; text-decoration-color: #800080\"> vllm/microsoft/Phi-3-vision-128k-instruct </span>│<span style=\"color: #008000; text-decoration-color: #008000\"> image-text --&gt; text </span>│\n",
       "└────────────────┴───────────────────────────────────────────┴─────────────────────┘\n",
       "</pre>\n"
      ],
      "text/plain": [
       "\u001b[3m                                  Available Models                                  \u001b[0m\n",
       "┏━━━━━━━━━━━━━━━━┳━━━━━━━━━━━━━━━━━━━━━━━━━━━━━━━━━━━━━━━━━━━┳━━━━━━━━━━━━━━━━━━━━━┓\n",
       "┃\u001b[1m \u001b[0m\u001b[1mImplementation\u001b[0m\u001b[1m \u001b[0m┃\u001b[1m \u001b[0m\u001b[1mModel ID                                 \u001b[0m\u001b[1m \u001b[0m┃\u001b[1m \u001b[0m\u001b[1mInput --> Output   \u001b[0m\u001b[1m \u001b[0m┃\n",
       "┡━━━━━━━━━━━━━━━━╇━━━━━━━━━━━━━━━━━━━━━━━━━━━━━━━━━━━━━━━━━━━╇━━━━━━━━━━━━━━━━━━━━━┩\n",
       "│\u001b[36m \u001b[0m\u001b[36mvllm          \u001b[0m\u001b[36m \u001b[0m│\u001b[35m \u001b[0m\u001b[35mvllm/allenai/Molmo-7B-D-0924             \u001b[0m\u001b[35m \u001b[0m│\u001b[32m \u001b[0m\u001b[32mimage-text --> text\u001b[0m\u001b[32m \u001b[0m│\n",
       "│\u001b[36m \u001b[0m\u001b[36mvllm          \u001b[0m\u001b[36m \u001b[0m│\u001b[35m \u001b[0m\u001b[35mvllm/allenai/Molmo-7B-O-0924             \u001b[0m\u001b[35m \u001b[0m│\u001b[32m \u001b[0m\u001b[32mimage-text --> text\u001b[0m\u001b[32m \u001b[0m│\n",
       "│\u001b[36m \u001b[0m\u001b[36mvllm          \u001b[0m\u001b[36m \u001b[0m│\u001b[35m \u001b[0m\u001b[35mvllm/allenai/Molmo-72B-0924              \u001b[0m\u001b[35m \u001b[0m│\u001b[32m \u001b[0m\u001b[32mimage-text --> text\u001b[0m\u001b[32m \u001b[0m│\n",
       "│\u001b[36m \u001b[0m\u001b[36mvllm          \u001b[0m\u001b[36m \u001b[0m│\u001b[35m \u001b[0m\u001b[35mvllm/microsoft/Phi-3.5-vision-instruct   \u001b[0m\u001b[35m \u001b[0m│\u001b[32m \u001b[0m\u001b[32mimage-text --> text\u001b[0m\u001b[32m \u001b[0m│\n",
       "│\u001b[36m \u001b[0m\u001b[36mvllm          \u001b[0m\u001b[36m \u001b[0m│\u001b[35m \u001b[0m\u001b[35mvllm/microsoft/Phi-3-vision-128k-instruct\u001b[0m\u001b[35m \u001b[0m│\u001b[32m \u001b[0m\u001b[32mimage-text --> text\u001b[0m\u001b[32m \u001b[0m│\n",
       "└────────────────┴───────────────────────────────────────────┴─────────────────────┘\n"
      ]
     },
     "metadata": {},
     "output_type": "display_data"
    }
   ],
   "source": [
    "import xinfer\n",
    "\n",
    "xinfer.list_models(\"vllm\")"
   ]
  },
  {
   "cell_type": "code",
   "execution_count": 2,
   "metadata": {},
   "outputs": [],
   "source": [
    "# model = xinfer.create_model(\"vllm/microsoft/Phi-3.5-vision-instruct\", device=\"cuda\", dtype=\"float16\")"
   ]
  },
  {
   "cell_type": "code",
   "execution_count": 3,
   "metadata": {},
   "outputs": [
    {
     "name": "stderr",
     "output_type": "stream",
     "text": [
      "2024-10-30 23:50:49,213\tINFO worker.py:1807 -- Started a local Ray instance. View the dashboard at \u001b[1m\u001b[32m127.0.0.1:8265 \u001b[39m\u001b[22m\n",
      "\u001b[36m(ProxyActor pid=258786)\u001b[0m INFO 2024-10-30 23:50:51,218 proxy 192.168.100.60 proxy.py:1191 - Proxy starting on node a4d0ecae63accfc50c84dd4eda155c21d1e2f12a1ae620111eb18b73 (HTTP port: 8000).\n",
      "INFO 2024-10-30 23:50:51,246 serve 258495 api.py:277 - Started Serve in namespace \"serve\".\n",
      "\u001b[36m(ServeController pid=258783)\u001b[0m INFO 2024-10-30 23:50:51,361 controller 258783 deployment_state.py:1604 - Deploying new version of Deployment(name='XInferModel', app='default') (initial target replicas: 2).\n",
      "\u001b[36m(ServeController pid=258783)\u001b[0m INFO 2024-10-30 23:50:51,463 controller 258783 deployment_state.py:1850 - Adding 2 replicas to Deployment(name='XInferModel', app='default').\n",
      "\u001b[36m(ServeReplica:default:XInferModel pid=258780)\u001b[0m 2024-10-30 23:50:55.843 | INFO     | xinfer.models:__init__:63 - Model: vikhyatk/moondream2\n",
      "\u001b[36m(ServeReplica:default:XInferModel pid=258780)\u001b[0m 2024-10-30 23:50:55.843 | INFO     | xinfer.models:__init__:64 - Device: cuda\n",
      "\u001b[36m(ServeReplica:default:XInferModel pid=258780)\u001b[0m 2024-10-30 23:50:55.843 | INFO     | xinfer.models:__init__:65 - Dtype: float16\n",
      "\u001b[36m(ServeReplica:default:XInferModel pid=258780)\u001b[0m PhiForCausalLM has generative capabilities, as `prepare_inputs_for_generation` is explicitly overwritten. However, it doesn't directly inherit from `GenerationMixin`. From 👉v4.50👈 onwards, `PreTrainedModel` will NOT inherit from `GenerationMixin`, and this model will lose the ability to call `generate` and other related functions.\n",
      "\u001b[36m(ServeReplica:default:XInferModel pid=258780)\u001b[0m   - If you're using `trust_remote_code=True`, you can get rid of this warning by loading the model with an auto class. See https://huggingface.co/docs/transformers/en/model_doc/auto#auto-classes\n",
      "\u001b[36m(ServeReplica:default:XInferModel pid=258780)\u001b[0m   - If you are the owner of the model architecture code, please modify your model class such that it inherits from `GenerationMixin` (after `PreTrainedModel`, otherwise you'll get an exception).\n",
      "\u001b[36m(ServeReplica:default:XInferModel pid=258780)\u001b[0m   - If you are not the owner of the model architecture class, please contact the model code owner to update it.\n"
     ]
    },
    {
     "name": "stdout",
     "output_type": "stream",
     "text": [
      "\u001b[36m(autoscaler +27s)\u001b[0m Tip: use `ray status` to view detailed cluster status. To disable these messages, set RAY_SCHEDULER_EVENTS=0.\n",
      "\u001b[33m(autoscaler +27s)\u001b[0m Warning: The following resource request cannot be scheduled right now: {'CPU': 1.0, 'GPU': 1.0}. This is likely due to all cluster resources being claimed by actors. Consider creating fewer actors or adding more nodes to this Ray cluster.\n"
     ]
    },
    {
     "name": "stderr",
     "output_type": "stream",
     "text": [
      "\u001b[36m(ServeController pid=258783)\u001b[0m WARNING 2024-10-30 23:51:21,575 controller 258783 deployment_state.py:2156 - Deployment 'XInferModel' in application 'default' has 1 replicas that have taken more than 30s to be scheduled.\n",
      "\u001b[36m(ServeController pid=258783)\u001b[0m This may be due to waiting for the cluster to auto-scale or for a runtime environment to be installed.\n",
      "\u001b[36m(ServeController pid=258783)\u001b[0m Resources required for each replica:\n",
      "\u001b[36m(ServeController pid=258783)\u001b[0m {\"CPU\": 1.0, \"GPU\": 1.0}\n",
      "\u001b[36m(ServeController pid=258783)\u001b[0m Total resources available:\n",
      "\u001b[36m(ServeController pid=258783)\u001b[0m {\"CPU\": 15.0}\n",
      "\u001b[36m(ServeController pid=258783)\u001b[0m Use `ray status` for more details.\n",
      "\u001b[36m(ServeReplica:default:XInferModel pid=258780)\u001b[0m INFO 2024-10-30 23:51:30,385 default_XInferModel mxk6qlwj e00864b2-76a4-4cf1-a675-928b55999079 /infer replica.py:378 - __CALL__ OK 1613.7ms\n",
      "\u001b[36m(ServeReplica:default:XInferModel pid=258780)\u001b[0m INFO 2024-10-30 23:51:32,624 default_XInferModel mxk6qlwj a87dc860-022e-4704-81bf-c8d5e1d2563c /infer replica.py:378 - __CALL__ OK 791.6ms\n"
     ]
    },
    {
     "name": "stdout",
     "output_type": "stream",
     "text": [
      "\u001b[33m(autoscaler +1m2s)\u001b[0m Warning: The following resource request cannot be scheduled right now: {'CPU': 1.0, 'GPU': 1.0}. This is likely due to all cluster resources being claimed by actors. Consider creating fewer actors or adding more nodes to this Ray cluster.\n"
     ]
    },
    {
     "name": "stderr",
     "output_type": "stream",
     "text": [
      "\u001b[36m(ServeController pid=258783)\u001b[0m WARNING 2024-10-30 23:51:51,590 controller 258783 deployment_state.py:2156 - Deployment 'XInferModel' in application 'default' has 1 replicas that have taken more than 30s to be scheduled.\n",
      "\u001b[36m(ServeController pid=258783)\u001b[0m This may be due to waiting for the cluster to auto-scale or for a runtime environment to be installed.\n",
      "\u001b[36m(ServeController pid=258783)\u001b[0m Resources required for each replica:\n",
      "\u001b[36m(ServeController pid=258783)\u001b[0m {\"CPU\": 1.0, \"GPU\": 1.0}\n",
      "\u001b[36m(ServeController pid=258783)\u001b[0m Total resources available:\n",
      "\u001b[36m(ServeController pid=258783)\u001b[0m {\"CPU\": 15.0}\n",
      "\u001b[36m(ServeController pid=258783)\u001b[0m Use `ray status` for more details.\n",
      "\u001b[32m2024-10-30 23:52:06.287\u001b[0m | \u001b[1mINFO    \u001b[0m | \u001b[36mxinfer.serve\u001b[0m:\u001b[36msignal_handler\u001b[0m:\u001b[36m58\u001b[0m - \u001b[1m\n",
      "Receiving shutdown signal. Cleaning up...\u001b[0m\n",
      "\u001b[36m(ServeController pid=258783)\u001b[0m INFO 2024-10-30 23:52:06,388 controller 258783 deployment_state.py:1866 - Removing 2 replicas from Deployment(name='XInferModel', app='default').\n",
      "\u001b[36m(ServeController pid=258783)\u001b[0m INFO 2024-10-30 23:52:08,484 controller 258783 deployment_state.py:2191 - Replica(id='mxk6qlwj', deployment='XInferModel', app='default') is stopped.\n",
      "\u001b[36m(ServeController pid=258783)\u001b[0m INFO 2024-10-30 23:52:13,067 controller 258783 deployment_state.py:2191 - Replica(id='2caasvra', deployment='XInferModel', app='default') is stopped.\n",
      "\u001b[36m(ServeReplica:default:XInferModel pid=258787)\u001b[0m INFO 2024-10-30 23:52:13,020 default_XInferModel 2caasvra replica.py:1184 - This replica has not yet started running user code. Skipping __del__.\n",
      "\u001b[36m(ServeReplica:default:XInferModel pid=258787)\u001b[0m 2024-10-30 23:52:13.022 | INFO     | xinfer.models:__init__:63 - Model: vikhyatk/moondream2\n",
      "\u001b[36m(ServeReplica:default:XInferModel pid=258787)\u001b[0m 2024-10-30 23:52:13.022 | INFO     | xinfer.models:__init__:64 - Device: cuda\n",
      "\u001b[36m(ServeReplica:default:XInferModel pid=258787)\u001b[0m 2024-10-30 23:52:13.022 | INFO     | xinfer.models:__init__:65 - Dtype: float16\n"
     ]
    },
    {
     "ename": "SystemExit",
     "evalue": "0",
     "output_type": "error",
     "traceback": [
      "An exception has occurred, use %tb to see the full traceback.\n",
      "\u001b[0;31mSystemExit\u001b[0m\u001b[0;31m:\u001b[0m 0\n"
     ]
    },
    {
     "name": "stderr",
     "output_type": "stream",
     "text": [
      "/home/dnth/.local/lib/python3.10/site-packages/IPython/core/interactiveshell.py:3585: UserWarning: To exit: use 'exit', 'quit', or Ctrl-D.\n",
      "  warn(\"To exit: use 'exit', 'quit', or Ctrl-D.\", stacklevel=1)\n"
     ]
    }
   ],
   "source": [
    "xinfer.serve_model(\n",
    "    \"vikhyatk/moondream2\",\n",
    "    deployment_kwargs={\n",
    "        \"num_replicas\": 2,\n",
    "        \"ray_actor_options\": {\"num_gpus\": 1}\n",
    "    },\n",
    "    device=\"cuda\",\n",
    "    dtype=\"float16\"\n",
    ")\n"
   ]
  },
  {
   "cell_type": "code",
   "execution_count": null,
   "metadata": {},
   "outputs": [],
   "source": []
  }
 ],
 "metadata": {
  "kernelspec": {
   "display_name": "xinfer",
   "language": "python",
   "name": "python3"
  },
  "language_info": {
   "codemirror_mode": {
    "name": "ipython",
    "version": 3
   },
   "file_extension": ".py",
   "mimetype": "text/x-python",
   "name": "python",
   "nbconvert_exporter": "python",
   "pygments_lexer": "ipython3",
   "version": "3.10.15"
  }
 },
 "nbformat": 4,
 "nbformat_minor": 2
}
