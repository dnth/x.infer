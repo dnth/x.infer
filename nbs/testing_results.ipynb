{
 "cells": [
  {
   "cell_type": "code",
   "execution_count": 3,
   "metadata": {},
   "outputs": [
    {
     "name": "stderr",
     "output_type": "stream",
     "text": [
      "\u001b[32m2024-11-08 12:18:22.866\u001b[0m | \u001b[1mINFO    \u001b[0m | \u001b[36mxinfer.models\u001b[0m:\u001b[36m__init__\u001b[0m:\u001b[36m63\u001b[0m - \u001b[1mModel: timm/resnet18.a1_in1k\u001b[0m\n",
      "\u001b[32m2024-11-08 12:18:22.867\u001b[0m | \u001b[1mINFO    \u001b[0m | \u001b[36mxinfer.models\u001b[0m:\u001b[36m__init__\u001b[0m:\u001b[36m64\u001b[0m - \u001b[1mDevice: cuda\u001b[0m\n",
      "\u001b[32m2024-11-08 12:18:22.867\u001b[0m | \u001b[1mINFO    \u001b[0m | \u001b[36mxinfer.models\u001b[0m:\u001b[36m__init__\u001b[0m:\u001b[36m65\u001b[0m - \u001b[1mDtype: float16\u001b[0m\n"
     ]
    },
    {
     "data": {
      "text/plain": [
       "[Category(score=0.335205078125, label='junco, snowbird'),\n",
       " Category(score=0.111572265625, label='jay'),\n",
       " Category(score=0.08148193359375, label='chickadee'),\n",
       " Category(score=0.07623291015625, label='brambling, Fringilla montifringilla'),\n",
       " Category(score=0.057098388671875, label='coucal'),\n",
       " Category(score=0.048858642578125, label='bittern'),\n",
       " Category(score=0.024658203125, label='bulbul'),\n",
       " Category(score=0.019134521484375, label='robin, American robin, Turdus migratorius'),\n",
       " Category(score=0.0157318115234375, label='prairie chicken, prairie grouse, prairie fowl'),\n",
       " Category(score=0.0142669677734375, label='magpie')]"
      ]
     },
     "execution_count": 3,
     "metadata": {},
     "output_type": "execute_result"
    }
   ],
   "source": [
    "import xinfer\n",
    "\n",
    "model = xinfer.create_model(\"timm/resnet18.a1_in1k\", device=\"cuda\", dtype=\"float16\")\n",
    "result = model.infer(\"/home/dnth/Desktop/xinfer/tests/test_data/test_image_2.jpg\", top_k=10)\n",
    "result.categories\n"
   ]
  },
  {
   "cell_type": "code",
   "execution_count": null,
   "metadata": {},
   "outputs": [],
   "source": []
  }
 ],
 "metadata": {
  "kernelspec": {
   "display_name": "xinfer",
   "language": "python",
   "name": "python3"
  },
  "language_info": {
   "codemirror_mode": {
    "name": "ipython",
    "version": 3
   },
   "file_extension": ".py",
   "mimetype": "text/x-python",
   "name": "python",
   "nbconvert_exporter": "python",
   "pygments_lexer": "ipython3",
   "version": "3.10.15"
  }
 },
 "nbformat": 4,
 "nbformat_minor": 2
}
