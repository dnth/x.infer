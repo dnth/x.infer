{
 "cells": [
  {
   "cell_type": "code",
   "execution_count": 1,
   "metadata": {},
   "outputs": [
    {
     "name": "stderr",
     "output_type": "stream",
     "text": [
      "\u001b[32m2024-11-08 12:23:37.641\u001b[0m | \u001b[1mINFO    \u001b[0m | \u001b[36mxinfer.models\u001b[0m:\u001b[36m__init__\u001b[0m:\u001b[36m63\u001b[0m - \u001b[1mModel: timm/resnet18.a1_in1k\u001b[0m\n",
      "\u001b[32m2024-11-08 12:23:37.642\u001b[0m | \u001b[1mINFO    \u001b[0m | \u001b[36mxinfer.models\u001b[0m:\u001b[36m__init__\u001b[0m:\u001b[36m64\u001b[0m - \u001b[1mDevice: cuda\u001b[0m\n",
      "\u001b[32m2024-11-08 12:23:37.642\u001b[0m | \u001b[1mINFO    \u001b[0m | \u001b[36mxinfer.models\u001b[0m:\u001b[36m__init__\u001b[0m:\u001b[36m65\u001b[0m - \u001b[1mDtype: float16\u001b[0m\n"
     ]
    },
    {
     "data": {
      "text/plain": [
       "[Category(score=0.335205078125, label='junco, snowbird'),\n",
       " Category(score=0.111572265625, label='jay'),\n",
       " Category(score=0.08148193359375, label='chickadee'),\n",
       " Category(score=0.07623291015625, label='brambling, Fringilla montifringilla'),\n",
       " Category(score=0.057098388671875, label='coucal'),\n",
       " Category(score=0.048858642578125, label='bittern'),\n",
       " Category(score=0.024658203125, label='bulbul'),\n",
       " Category(score=0.019134521484375, label='robin, American robin, Turdus migratorius'),\n",
       " Category(score=0.0157318115234375, label='prairie chicken, prairie grouse, prairie fowl'),\n",
       " Category(score=0.0142669677734375, label='magpie')]"
      ]
     },
     "execution_count": 1,
     "metadata": {},
     "output_type": "execute_result"
    }
   ],
   "source": [
    "import xinfer\n",
    "\n",
    "model = xinfer.create_model(\"timm/resnet18.a1_in1k\", device=\"cuda\", dtype=\"float16\")\n",
    "result = model.infer(\"/home/dnth/Desktop/xinfer/tests/test_data/test_image_2.jpg\", top_k=10)\n",
    "result.categories\n"
   ]
  },
  {
   "cell_type": "code",
   "execution_count": 2,
   "metadata": {},
   "outputs": [
    {
     "data": {
      "text/plain": [
       "[Result(categories=[Category(score=0.24755859375, label='shopping cart'), Category(score=0.1458740234375, label='go-kart'), Category(score=0.08795166015625, label='tricycle, trike, velocipede'), Category(score=0.0311126708984375, label='trolleybus, trolley coach, trackless trolley'), Category(score=0.03070068359375, label='parking meter'), Category(score=0.0302734375, label='traffic light, traffic signal, stoplight'), Category(score=0.0283355712890625, label='garbage truck, dustcart'), Category(score=0.02569580078125, label='horse cart, horse-cart'), Category(score=0.0200958251953125, label='cab, hack, taxi, taxicab'), Category(score=0.0196685791015625, label='limousine, limo')]),\n",
       " Result(categories=[Category(score=0.334716796875, label='junco, snowbird'), Category(score=0.1119384765625, label='jay'), Category(score=0.0814208984375, label='chickadee'), Category(score=0.0762939453125, label='brambling, Fringilla montifringilla'), Category(score=0.057037353515625, label='coucal'), Category(score=0.048797607421875, label='bittern'), Category(score=0.024688720703125, label='bulbul'), Category(score=0.0191497802734375, label='robin, American robin, Turdus migratorius'), Category(score=0.0157470703125, label='prairie chicken, prairie grouse, prairie fowl'), Category(score=0.0142822265625, label='magpie')])]"
      ]
     },
     "execution_count": 2,
     "metadata": {},
     "output_type": "execute_result"
    }
   ],
   "source": [
    "result = model.infer_batch(\n",
    "    [\"/home/dnth/Desktop/xinfer/tests/test_data/test_image_1.jpg\", \"/home/dnth/Desktop/xinfer/tests/test_data/test_image_2.jpg\"],\n",
    "    top_k=10,\n",
    ")\n",
    "result\n"
   ]
  },
  {
   "cell_type": "code",
   "execution_count": 3,
   "metadata": {},
   "outputs": [
    {
     "data": {
      "text/plain": [
       "[Category(score=0.24755859375, label='shopping cart'),\n",
       " Category(score=0.1458740234375, label='go-kart'),\n",
       " Category(score=0.08795166015625, label='tricycle, trike, velocipede'),\n",
       " Category(score=0.0311126708984375, label='trolleybus, trolley coach, trackless trolley'),\n",
       " Category(score=0.03070068359375, label='parking meter'),\n",
       " Category(score=0.0302734375, label='traffic light, traffic signal, stoplight'),\n",
       " Category(score=0.0283355712890625, label='garbage truck, dustcart'),\n",
       " Category(score=0.02569580078125, label='horse cart, horse-cart'),\n",
       " Category(score=0.0200958251953125, label='cab, hack, taxi, taxicab'),\n",
       " Category(score=0.0196685791015625, label='limousine, limo')]"
      ]
     },
     "execution_count": 3,
     "metadata": {},
     "output_type": "execute_result"
    }
   ],
   "source": [
    "result[0].categories\n"
   ]
  },
  {
   "cell_type": "code",
   "execution_count": null,
   "metadata": {},
   "outputs": [],
   "source": []
  }
 ],
 "metadata": {
  "kernelspec": {
   "display_name": "xinfer",
   "language": "python",
   "name": "python3"
  },
  "language_info": {
   "codemirror_mode": {
    "name": "ipython",
    "version": 3
   },
   "file_extension": ".py",
   "mimetype": "text/x-python",
   "name": "python",
   "nbconvert_exporter": "python",
   "pygments_lexer": "ipython3",
   "version": "3.10.15"
  }
 },
 "nbformat": 4,
 "nbformat_minor": 2
}
