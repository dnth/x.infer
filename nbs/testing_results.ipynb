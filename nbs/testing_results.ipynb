{
 "cells": [
  {
   "cell_type": "code",
   "execution_count": 1,
   "metadata": {},
   "outputs": [
    {
     "name": "stderr",
     "output_type": "stream",
     "text": [
      "\u001b[32m2024-11-08 16:37:42.617\u001b[0m | \u001b[1mINFO    \u001b[0m | \u001b[36mxinfer.models\u001b[0m:\u001b[36m__init__\u001b[0m:\u001b[36m63\u001b[0m - \u001b[1mModel: fancyfeast/llama-joycaption-alpha-two-hf-llava\u001b[0m\n",
      "\u001b[32m2024-11-08 16:37:42.618\u001b[0m | \u001b[1mINFO    \u001b[0m | \u001b[36mxinfer.models\u001b[0m:\u001b[36m__init__\u001b[0m:\u001b[36m64\u001b[0m - \u001b[1mDevice: cuda\u001b[0m\n",
      "\u001b[32m2024-11-08 16:37:42.618\u001b[0m | \u001b[1mINFO    \u001b[0m | \u001b[36mxinfer.models\u001b[0m:\u001b[36m__init__\u001b[0m:\u001b[36m65\u001b[0m - \u001b[1mDtype: float16\u001b[0m\n"
     ]
    },
    {
     "data": {
      "application/vnd.jupyter.widget-view+json": {
       "model_id": "91bfc23acb494fd78b16ca378614d964",
       "version_major": 2,
       "version_minor": 0
      },
      "text/plain": [
       "Loading checkpoint shards:   0%|          | 0/4 [00:00<?, ?it/s]"
      ]
     },
     "metadata": {},
     "output_type": "display_data"
    }
   ],
   "source": [
    "import xinfer\n",
    "model = xinfer.create_model(\"fancyfeast/llama-joycaption-alpha-two-hf-llava\", device=\"cuda\", dtype=\"float16\")\n",
    "\n"
   ]
  },
  {
   "cell_type": "code",
   "execution_count": 2,
   "metadata": {},
   "outputs": [
    {
     "data": {
      "text/plain": [
       "Result(categories=None, text='photograph, bird, reed warbler, Acrocephalus scirpaceus, brown, white, black markings, perched, reed, yellow beak, white chest, greenish-gray wings, side view, nature, wildlife, natural habitat, blurred background, shallow depth of field, dry vegetation, fine details, soft focus, outdoors, close-up, no humans, environmental portrait, ornithology, feather textures, small bird, brown tones, European bird, avian.')"
      ]
     },
     "execution_count": 2,
     "metadata": {},
     "output_type": "execute_result"
    }
   ],
   "source": [
    "result = model.infer(\"/home/dnth/Desktop/xinfer/tests/test_data/test_image_2.jpg\", \n",
    "                     text=\"Write a list of Booru-like tags for this image.\")\n",
    "result"
   ]
  },
  {
   "cell_type": "code",
   "execution_count": 8,
   "metadata": {},
   "outputs": [
    {
     "data": {
      "text/plain": [
       "[Result(categories=None, text='photograph, street, daytime, pedestrian, man, wearing costume, furry outfit, large headgear, animal-like ears, full body costume, holding weapons, blue fur, detailed costume, furry culture, urban setting, asphalt road, cars, parked cars, white cars, trees, streetlight, utility poles, houses, multi-story buildings, commercial buildings, storefronts, clouded sky, shadow, colorful costume, blue and orange colors, street scene, city life, costume fan, outdoor setting, costumes and cosplay, vibrant colors, sunlight, urban environment, casual wear, bystanders'),\n",
       " Result(categories=None, text='photograph, bird, blackcap, bird species, reed warbler, small bird, brown bird, white face, black throat, yellow beak, perched, thin branches, dry reeds, wheat stalks background, daytime, close-up, sharp focus, blurred background, nature, outdoors, wildlife photography, field, autumn, fall, vertical shot, side profile, natural habitat, European blackcap, songbird.')]"
      ]
     },
     "execution_count": 8,
     "metadata": {},
     "output_type": "execute_result"
    }
   ],
   "source": [
    "result = model.infer_batch(\n",
    "    [\"/home/dnth/Desktop/xinfer/tests/test_data/test_image_1.jpg\", \n",
    "     \"/home/dnth/Desktop/xinfer/tests/test_data/test_image_2.jpg\"],\n",
    "    texts=[\"Write a list of Booru-like tags for this image.\", \"Write a list of Booru-like tags for this image.\"],\n",
    ")\n",
    "result\n"
   ]
  },
  {
   "cell_type": "code",
   "execution_count": 9,
   "metadata": {},
   "outputs": [
    {
     "data": {
      "text/plain": [
       "Result(categories=None, text='photograph, street, daytime, pedestrian, man, wearing costume, furry outfit, large headgear, animal-like ears, full body costume, holding weapons, blue fur, detailed costume, furry culture, urban setting, asphalt road, cars, parked cars, white cars, trees, streetlight, utility poles, houses, multi-story buildings, commercial buildings, storefronts, clouded sky, shadow, colorful costume, blue and orange colors, street scene, city life, costume fan, outdoor setting, costumes and cosplay, vibrant colors, sunlight, urban environment, casual wear, bystanders')"
      ]
     },
     "execution_count": 9,
     "metadata": {},
     "output_type": "execute_result"
    }
   ],
   "source": [
    "result[0]"
   ]
  },
  {
   "cell_type": "code",
   "execution_count": 10,
   "metadata": {},
   "outputs": [
    {
     "data": {
      "text/plain": [
       "Result(categories=None, text='photograph, bird, blackcap, bird species, reed warbler, small bird, brown bird, white face, black throat, yellow beak, perched, thin branches, dry reeds, wheat stalks background, daytime, close-up, sharp focus, blurred background, nature, outdoors, wildlife photography, field, autumn, fall, vertical shot, side profile, natural habitat, European blackcap, songbird.')"
      ]
     },
     "execution_count": 10,
     "metadata": {},
     "output_type": "execute_result"
    }
   ],
   "source": [
    "result[1]"
   ]
  },
  {
   "cell_type": "code",
   "execution_count": null,
   "metadata": {},
   "outputs": [],
   "source": []
  }
 ],
 "metadata": {
  "kernelspec": {
   "display_name": "xinfer",
   "language": "python",
   "name": "python3"
  },
  "language_info": {
   "codemirror_mode": {
    "name": "ipython",
    "version": 3
   },
   "file_extension": ".py",
   "mimetype": "text/x-python",
   "name": "python",
   "nbconvert_exporter": "python",
   "pygments_lexer": "ipython3",
   "version": "3.10.15"
  }
 },
 "nbformat": 4,
 "nbformat_minor": 2
}
